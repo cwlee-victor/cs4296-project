{
 "cells": [
  {
   "cell_type": "code",
   "execution_count": 1,
   "metadata": {},
   "outputs": [],
   "source": [
    "from pyspark.sql import SparkSession\n",
    "from pyspark.sql.functions import col, when, count, avg\n",
    "from pyspark.ml.feature import Tokenizer, StopWordsRemover\n",
    "from pyspark.ml.feature import HashingTF, IDF, StringIndexer\n",
    "from pyspark.sql.types import FloatType, IntegerType\n",
    "from pyspark.ml.evaluation import MulticlassClassificationEvaluator\n",
    "from pyspark.ml.classification import NaiveBayes\n",
    "import pandas as pd"
   ]
  },
  {
   "cell_type": "code",
   "execution_count": 2,
   "metadata": {},
   "outputs": [],
   "source": [
    "spark = SparkSession.builder.master(\"local[*]\") \\\n",
    "                    .appName('Yelp') \\\n",
    "                    .getOrCreate()"
   ]
  },
  {
   "cell_type": "code",
   "execution_count": 3,
   "metadata": {},
   "outputs": [],
   "source": [
    "df = spark.read.option(\"multiLine\", True).csv(\"store/yelp.csv\", header=True, sep='|')\n",
    "df = df.withColumn(\"review_stars\", col(\"review_stars\").cast(FloatType())) \\\n",
    "       .withColumn(\"useful\", col(\"useful\").cast(IntegerType())) \\\n",
    "       .withColumn(\"funny\", col(\"funny\").cast(IntegerType())) \\\n",
    "       .withColumn(\"cool\", col(\"cool\").cast(IntegerType())) \\\n",
    "       .withColumn(\"latitude\", col(\"latitude\").cast(FloatType())) \\\n",
    "       .withColumn(\"longitude\", col(\"longitude\").cast(FloatType())) \\\n",
    "       .withColumn(\"business_stars\", col(\"business_stars\").cast(FloatType())) \\\n",
    "       .withColumn(\"review_count\", col(\"review_count\").cast(IntegerType())) \\\n",
    "       .withColumn(\"is_open\", col(\"is_open\").cast(IntegerType()))"
   ]
  },
  {
   "cell_type": "code",
   "execution_count": 4,
   "metadata": {},
   "outputs": [
    {
     "data": {
      "text/plain": [
       "1168818"
      ]
     },
     "execution_count": 4,
     "metadata": {},
     "output_type": "execute_result"
    }
   ],
   "source": [
    "df.count()"
   ]
  },
  {
   "cell_type": "code",
   "execution_count": 5,
   "metadata": {},
   "outputs": [],
   "source": [
    "df = df.withColumn(\"sentiment\", when(df.review_stars >= 3.5, 1).otherwise(when(df.review_stars <= 2.5, -1).otherwise(0)))"
   ]
  },
  {
   "cell_type": "code",
   "execution_count": 6,
   "metadata": {},
   "outputs": [],
   "source": [
    "# Tokenize text\n",
    "tokenizer = Tokenizer(inputCol=\"text\", outputCol=\"tokens\")\n",
    "df_tokens = tokenizer.transform(df)"
   ]
  },
  {
   "cell_type": "code",
   "execution_count": 7,
   "metadata": {},
   "outputs": [],
   "source": [
    "# Stop word remove\n",
    "stopwords_remover = StopWordsRemover(inputCol=\"tokens\", outputCol=\"words\")\n",
    "filtered_data = stopwords_remover.transform(df_tokens)"
   ]
  },
  {
   "cell_type": "code",
   "execution_count": 8,
   "metadata": {},
   "outputs": [],
   "source": [
    "# HashingTF to convert text to numeric features\n",
    "hashingTF = HashingTF(inputCol=\"words\", outputCol=\"rawFeatures\", numFeatures=2**20)\n",
    "featurized_data = hashingTF.transform(filtered_data)"
   ]
  },
  {
   "cell_type": "code",
   "execution_count": 9,
   "metadata": {},
   "outputs": [],
   "source": [
    "# IDF to rescale features\n",
    "idf = IDF(inputCol=\"rawFeatures\", outputCol=\"features\", minDocFreq=5)\n",
    "idf_model = idf.fit(featurized_data)\n",
    "rescaled_data = idf_model.transform(featurized_data)"
   ]
  },
  {
   "cell_type": "code",
   "execution_count": 10,
   "metadata": {},
   "outputs": [],
   "source": [
    "data = rescaled_data.select(\n",
    "    col(\"business_stars\"),\n",
    "    col(\"review_count\"),\n",
    "    col(\"rawfeatures\"),\n",
    "    col(\"features\"),\n",
    "    col(\"sentiment\")\n",
    ")\n",
    "label_stringIdx = StringIndexer(inputCol = \"sentiment\", outputCol = \"label\")\n",
    "label_model = label_stringIdx.fit(data)\n",
    "data = label_model.transform(data)"
   ]
  },
  {
   "cell_type": "code",
   "execution_count": 11,
   "metadata": {},
   "outputs": [
    {
     "name": "stdout",
     "output_type": "stream",
     "text": [
      "Naive Bayes Classification Model Test Accuracy = 0.80931\n"
     ]
    }
   ],
   "source": [
    "(train, test) = data.randomSplit([0.8, 0.2])\n",
    "\n",
    "nb = NaiveBayes(smoothing=1.0, modelType=\"multinomial\")\n",
    "\n",
    "nbModel = nb.fit(train)\n",
    "\n",
    "predictions = nbModel.transform(test)\n",
    "\n",
    "evaluator = MulticlassClassificationEvaluator(predictionCol=\"prediction\")\n",
    "nb_accuracy = evaluator.evaluate(predictions, {evaluator.metricName: \"accuracy\"})\n",
    "print(\"Naive Bayes Classification Model Test Accuracy = %g\" % nb_accuracy)"
   ]
  },
  {
   "cell_type": "code",
   "execution_count": 12,
   "metadata": {},
   "outputs": [],
   "source": [
    "result = pd.DataFrame({\n",
    "    'model': ['Naive Bayes Classification'],\n",
    "    'accuracy': [nb_accuracy]\n",
    "})\n",
    "result.to_csv(\"store/result.csv\")\n",
    "\n",
    "top10_result_review = df.groupBy(\"name\").agg(count(\"review_stars\").alias(\"review_stars_total\")).orderBy(col(\"review_stars_total\").desc()).limit(10)\n",
    "top10_result_review = top10_result_review.toPandas()\n",
    "top10_result_review.to_csv(\"store/top10_result_review.csv\")\n",
    "\n",
    "top10_business_review = df.groupBy(\"name\").agg(count(\"business_stars\").alias(\"business_stars_total\")).orderBy(col(\"business_stars_total\").desc()).limit(10)\n",
    "top10_business_review = top10_business_review.toPandas()\n",
    "top10_business_review.to_csv(\"store/top10_business_review.csv\")\n",
    "\n",
    "top10_city_review = df.groupBy(\"city\").agg(count(\"business_stars\").alias(\"business_stars_total\")).orderBy(col(\"business_stars_total\").desc()).limit(10)\n",
    "top10_city_review = top10_city_review.toPandas()\n",
    "top10_city_review.to_csv(\"store/top10_city_review.csv\")\n",
    "\n",
    "review_stars_dist = df.groupBy(\"review_stars\").agg(count(\"review_stars\").alias(\"review_stars_total\")).orderBy(col(\"review_stars\").desc())\n",
    "review_stars_dist = review_stars_dist.toPandas()\n",
    "review_stars_dist.to_csv(\"store/review_stars_dist.csv\")\n",
    "\n",
    "business_stars_dist = df.groupBy(\"business_stars\").agg(count(\"business_stars\").alias(\"business_stars_total\")).orderBy(col(\"business_stars\").desc())\n",
    "business_stars_dist = business_stars_dist.toPandas()\n",
    "business_stars_dist.to_csv(\"store/business_stars_dist.csv\")\n",
    "\n",
    "top10_city_business_count = df.groupBy('city').count().sort(col(\"count\").desc()).limit(10)\n",
    "top10_city_business_count = top10_city_business_count.toPandas()\n",
    "top10_city_business_count.to_csv(\"store/top10_city_business_count.csv\")\n",
    "\n",
    "top10_most_reviewed_business = df.groupBy(col('name'), col('review_count'), col('city')).agg(avg(\"review_stars\").alias(\"review_stars_average\")).orderBy(col(\"review_count\").desc()).limit(10)\n",
    "top10_most_reviewed_business = top10_most_reviewed_business.toPandas()\n",
    "top10_most_reviewed_business.to_csv(\"store/top10_most_reviewed_business.csv\")\n",
    "\n",
    "sentiment_dist = data.groupBy(\"sentiment\").agg(count(\"sentiment\").alias(\"sentiment_total\")).orderBy(col(\"sentiment\").desc())\n",
    "sentiment_dist = sentiment_dist.toPandas()\n",
    "sentiment_dist.to_csv(\"store/sentiment_dist.csv\")"
   ]
  },
  {
   "cell_type": "code",
   "execution_count": 13,
   "metadata": {},
   "outputs": [],
   "source": [
    "spark.stop()"
   ]
  },
  {
   "cell_type": "code",
   "execution_count": null,
   "metadata": {},
   "outputs": [],
   "source": []
  }
 ],
 "metadata": {
  "kernelspec": {
   "display_name": "cs4296",
   "language": "python",
   "name": "python3"
  },
  "language_info": {
   "codemirror_mode": {
    "name": "ipython",
    "version": 3
   },
   "file_extension": ".py",
   "mimetype": "text/x-python",
   "name": "python",
   "nbconvert_exporter": "python",
   "pygments_lexer": "ipython3",
   "version": "3.9.19"
  }
 },
 "nbformat": 4,
 "nbformat_minor": 2
}
